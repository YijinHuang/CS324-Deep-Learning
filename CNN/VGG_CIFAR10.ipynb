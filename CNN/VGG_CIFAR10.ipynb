{
 "cells": [
  {
   "cell_type": "code",
   "execution_count": 1,
   "metadata": {
    "collapsed": true
   },
   "outputs": [],
   "source": [
    "import cnn_train\n",
    "import numpy as np\n",
    "import torchvision\n",
    "from cnn_model import VGG, VGG_CNF\n",
    "import matplotlib.pyplot as plt\n",
    "\n",
    "# Define default values\n",
    "LEARNING_RATE_DEFAULT = 1e-4\n",
    "BATCH_SIZE_DEFAULT = 32\n",
    "MAX_EPOCHS_DEFAULT = 500\n",
    "EVAL_FREQ_DEFAULT = 25\n",
    "OPTIMIZER_DEFAULT = 'ADAM'"
   ]
  },
  {
   "cell_type": "code",
   "execution_count": 2,
   "metadata": {},
   "outputs": [
    {
     "name": "stdout",
     "output_type": "stream",
     "text": [
      "Dataset size: \n",
      "train dataset size: 50000\n",
      "test dataset size: 10000\n",
      "\n",
      "Image shape\n",
      "torch.Size([3, 32, 32])\n"
     ]
    }
   ],
   "source": [
    "# Get data\n",
    "trainset, testset = cnn_train.generate_CIFAR10()\n",
    "# Dataset size\n",
    "print('Dataset size: ')\n",
    "print('train dataset size: {}'.format(len(trainset)))\n",
    "print('test dataset size: {}'.format(len(testset)))\n",
    "print()\n",
    "example = trainset[0]\n",
    "X, y = example\n",
    "# Image shape\n",
    "print('Image shape')\n",
    "print(X.shape)"
   ]
  },
  {
   "cell_type": "code",
   "execution_count": 3,
   "metadata": {},
   "outputs": [
    {
     "name": "stdout",
     "output_type": "stream",
     "text": [
      "Structure:\n",
      "[64, 64, 'pool', 128, 128, 'pool', 256, 256, 'pool', 512, 512, 'pool', 512, 512, 'pool']\n",
      "\n"
     ]
    }
   ],
   "source": [
    "# Use B type VGG\n",
    "layers = VGG_CNF['B']\n",
    "print('Structure:')\n",
    "print(layers)\n",
    "print()"
   ]
  },
  {
   "cell_type": "code",
   "execution_count": 4,
   "metadata": {},
   "outputs": [
    {
     "name": "stderr",
     "output_type": "stream",
     "text": [
      "/root/anaconda3/lib/python3.6/site-packages/torch/nn/modules/container.py:92: UserWarning: Implicit dimension choice for softmax has been deprecated. Change the call to include dim=X as an argument.\n",
      "  input = module(input)\n"
     ]
    },
    {
     "name": "stdout",
     "output_type": "stream",
     "text": [
      "epoch: 25, loss: 2.549448, test acc: 0.8118\n",
      "epoch: 50, loss: 2.516566, test acc: 0.8245\n",
      "epoch: 75, loss: 2.506778, test acc: 0.8349\n",
      "epoch: 100, loss: 2.501395, test acc: 0.8337\n",
      "epoch: 125, loss: 2.496583, test acc: 0.8416\n",
      "epoch: 150, loss: 2.494661, test acc: 0.8488\n",
      "epoch: 175, loss: 2.491652, test acc: 0.8431\n",
      "epoch: 200, loss: 2.490342, test acc: 0.8503\n",
      "epoch: 225, loss: 2.48809, test acc: 0.8527\n",
      "epoch: 250, loss: 2.487432, test acc: 0.8561\n",
      "epoch: 275, loss: 2.487009, test acc: 0.8567\n",
      "epoch: 300, loss: 2.485746, test acc: 0.8583\n",
      "epoch: 325, loss: 2.484265, test acc: 0.8566\n",
      "epoch: 350, loss: 2.483766, test acc: 0.8602\n",
      "epoch: 375, loss: 2.484325, test acc: 0.8592\n",
      "epoch: 400, loss: 2.483796, test acc: 0.8592\n",
      "epoch: 425, loss: 2.483852, test acc: 0.8597\n",
      "epoch: 450, loss: 2.483366, test acc: 0.8624\n",
      "epoch: 475, loss: 2.482643, test acc: 0.8647\n",
      "epoch: 500, loss: 2.482933, test acc: 0.8598\n"
     ]
    }
   ],
   "source": [
    "record_epochs, accs, losses = cnn_train.train(\n",
    "    net=VGG,\n",
    "    trainset=trainset,\n",
    "    testset=testset,\n",
    "    n_channels=3,\n",
    "    layers=layers,\n",
    "    n_classes=10,\n",
    "    epochs=MAX_EPOCHS_DEFAULT,\n",
    "    learning_rate=LEARNING_RATE_DEFAULT,\n",
    "    batch_size=512,\n",
    "    eval_freq=EVAL_FREQ_DEFAULT\n",
    ")"
   ]
  },
  {
   "cell_type": "code",
   "execution_count": 5,
   "metadata": {},
   "outputs": [
    {
     "data": {
      "image/png": "[encoded data removed]",
      "text/plain": [
       "<Figure size 432x288 with 1 Axes>"
      ]
     },
     "metadata": {},
     "output_type": "display_data"
    }
   ],
   "source": [
    "# accuracy curve of validataion data\n",
    "acc_plot = plt.plot(record_epochs, accs)\n",
    "plt.ylim([0, 1.1])\n",
    "plt.show()\n",
    "plt.close()"
   ]
  },
  {
   "cell_type": "code",
   "execution_count": 6,
   "metadata": {},
   "outputs": [
    {
     "data": {
      "image/png": "[encoded data removed]",
      "text/plain": [
       "<Figure size 432x288 with 1 Axes>"
      ]
     },
     "metadata": {},
     "output_type": "display_data"
    }
   ],
   "source": [
    "# loss curve of training data\n",
    "losses = plt.plot(record_epochs, losses)\n",
    "plt.show()\n",
    "plt.close()"
   ]
  }
 ],
 "metadata": {
  "kernelspec": {
   "display_name": "Python 3",
   "language": "python",
   "name": "python3"
  },
  "language_info": {
   "codemirror_mode": {
    "name": "ipython",
    "version": 3
   },
   "file_extension": ".py",
   "mimetype": "text/x-python",
   "name": "python",
   "nbconvert_exporter": "python",
   "pygments_lexer": "ipython3",
   "version": "3.6.1"
  }
 },
 "nbformat": 4,
 "nbformat_minor": 2
}
