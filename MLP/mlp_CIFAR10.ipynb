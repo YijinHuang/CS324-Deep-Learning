{
 "cells": [
  {
   "cell_type": "code",
   "execution_count": 1,
   "metadata": {
    "collapsed": true
   },
   "outputs": [],
   "source": [
    "import torch\n",
    "import numpy as np\n",
    "import torchvision\n",
    "from pytorch_mlp import CIFAR_MLP\n",
    "import pytorch_train_mlp as mlp_train\n",
    "import matplotlib.pyplot as plt\n",
    "\n",
    "# Default constants\n",
    "DNN_HIDDEN_UNITS_DEFAULT = '20'\n",
    "LEARNING_RATE_DEFAULT = 1e-4\n",
    "MAX_EPOCHS_DEFAULT = 200\n",
    "EVAL_FREQ_DEFAULT = 10"
   ]
  },
  {
   "cell_type": "code",
   "execution_count": 2,
   "metadata": {},
   "outputs": [
    {
     "name": "stdout",
     "output_type": "stream",
     "text": [
      "Dataset size: \n",
      "train dataset size: 50000\n",
      "test dataset size: 10000\n",
      "\n",
      "Image shape:\n",
      "torch.Size([3, 32, 32])\n",
      "\n",
      "I flatten data by tensor.view(-1, 3*32*32).\n",
      "Final shape is 1x3072.\n"
     ]
    }
   ],
   "source": [
    "# Get data\n",
    "trainset, testset = mlp_train.generate_CIFAR10()\n",
    "# Dataset size\n",
    "print('Dataset size: ')\n",
    "print('train dataset size: {}'.format(len(trainset)))\n",
    "print('test dataset size: {}'.format(len(testset)))\n",
    "print()\n",
    "example = trainset[0]\n",
    "X, y = example\n",
    "\n",
    "# Image shape\n",
    "print('Image shape:')\n",
    "print(X.shape)\n",
    "print()\n",
    "\n",
    "print('I flatten data by tensor.view(-1, 3*32*32).')\n",
    "print('Final shape is 1x3072.')"
   ]
  },
  {
   "cell_type": "code",
   "execution_count": 3,
   "metadata": {},
   "outputs": [
    {
     "name": "stdout",
     "output_type": "stream",
     "text": [
      "Hidden nodes:\n",
      "[768, 192]\n"
     ]
    }
   ],
   "source": [
    "# Define hiddens\n",
    "print('Hidden nodes:')\n",
    "n_hidden = [int(hidden) for hidden in '768 192'.split()]\n",
    "print(n_hidden)"
   ]
  },
  {
   "cell_type": "code",
   "execution_count": 4,
   "metadata": {},
   "outputs": [
    {
     "name": "stderr",
     "output_type": "stream",
     "text": [
      "/public/yijin/course/DL/assignment2/PART1/pytorch_mlp.py:87: UserWarning: Implicit dimension choice for softmax has been deprecated. Change the call to include dim=X as an argument.\n",
      "  out = self.softmax(x)\n"
     ]
    },
    {
     "name": "stdout",
     "output_type": "stream",
     "text": [
      "epoch: 10, loss: 2.922307, test acc: 0.5237\n",
      "epoch: 20, loss: 2.858495, test acc: 0.5336\n",
      "epoch: 30, loss: 2.816406, test acc: 0.5445\n",
      "epoch: 40, loss: 2.785137, test acc: 0.5489\n",
      "epoch: 50, loss: 2.759914, test acc: 0.5517\n",
      "epoch: 70, loss: 2.725658, test acc: 0.5507\n",
      "epoch: 80, loss: 2.710594, test acc: 0.5537\n",
      "epoch: 90, loss: 2.695646, test acc: 0.5655\n",
      "epoch: 100, loss: 2.687914, test acc: 0.5596\n",
      "epoch: 110, loss: 2.677018, test acc: 0.5506\n",
      "epoch: 120, loss: 2.670383, test acc: 0.5502\n",
      "epoch: 130, loss: 2.663433, test acc: 0.5585\n",
      "epoch: 140, loss: 2.654982, test acc: 0.568\n",
      "epoch: 150, loss: 2.648042, test acc: 0.5598\n",
      "epoch: 160, loss: 2.645746, test acc: 0.5648\n",
      "epoch: 170, loss: 2.639437, test acc: 0.5566\n",
      "epoch: 180, loss: 2.635999, test acc: 0.5572\n",
      "epoch: 190, loss: 2.633756, test acc: 0.5611\n",
      "epoch: 200, loss: 2.626673, test acc: 0.5648\n"
     ]
    }
   ],
   "source": [
    "# Train\n",
    "epochs, accs, losses = mlp_train.train(\n",
    "    net=CIFAR_MLP,\n",
    "    trainset=trainset,\n",
    "    testset=testset,\n",
    "    n_features=3*32*32,\n",
    "    n_hidden=n_hidden,\n",
    "    n_classes=10,\n",
    "    epochs=MAX_EPOCHS_DEFAULT,\n",
    "    learning_rate=LEARNING_RATE_DEFAULT,\n",
    "    batch_size=256\n",
    ")"
   ]
  },
  {
   "cell_type": "code",
   "execution_count": 5,
   "metadata": {},
   "outputs": [
    {
     "data": {
      "image/png": "[encoded data removed]",
      "text/plain": [
       "<Figure size 432x288 with 1 Axes>"
      ]
     },
     "metadata": {},
     "output_type": "display_data"
    }
   ],
   "source": [
    "# accuracy curve of validataion data\n",
    "acc_plot = plt.plot(epochs, accs)\n",
    "plt.ylim([0, 1.1])\n",
    "plt.show()\n",
    "plt.close()"
   ]
  },
  {
   "cell_type": "code",
   "execution_count": 6,
   "metadata": {},
   "outputs": [
    {
     "data": {
      "image/png": "[encoded data removed]",
      "text/plain": [
       "<Figure size 432x288 with 1 Axes>"
      ]
     },
     "metadata": {},
     "output_type": "display_data"
    }
   ],
   "source": [
    "# loss curve of training data\n",
    "losses = plt.plot(epochs, losses)\n",
    "plt.show()\n",
    "plt.close()"
   ]
  },
  {
   "cell_type": "code",
   "execution_count": 1,
   "metadata": {},
   "outputs": [
    {
     "name": "stdout",
     "output_type": "stream",
     "text": [
      "The dimension of CIFAR10 is large. The mlp can not work well.\n"
     ]
    }
   ],
   "source": [
    "print('The dimension of CIFAR10 is large. The mlp can not work well.')"
   ]
  }
 ],
 "metadata": {
  "kernelspec": {
   "display_name": "Python 3",
   "language": "python",
   "name": "python3"
  },
  "language_info": {
   "codemirror_mode": {
    "name": "ipython",
    "version": 3
   },
   "file_extension": ".py",
   "mimetype": "text/x-python",
   "name": "python",
   "nbconvert_exporter": "python",
   "pygments_lexer": "ipython3",
   "version": "3.6.1"
  }
 },
 "nbformat": 4,
 "nbformat_minor": 2
}
